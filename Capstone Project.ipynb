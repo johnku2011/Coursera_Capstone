{
    "cells": [
        {
            "cell_type": "markdown",
            "metadata": {
                "collapsed": true
            },
            "source": "# Capstone Project Notebook"
        },
        {
            "cell_type": "markdown",
            "metadata": {},
            "source": "#### Import required packages:"
        },
        {
            "cell_type": "code",
            "execution_count": 1,
            "metadata": {},
            "outputs": [],
            "source": "import pandas as pd\nimport numpy as np"
        },
        {
            "cell_type": "code",
            "execution_count": 2,
            "metadata": {},
            "outputs": [],
            "source": "# !pip install bs4\n# !pip install requests\nfrom bs4 import BeautifulSoup\nimport requests"
        },
        {
            "cell_type": "markdown",
            "metadata": {},
            "source": "### PartA: Obtaining information from wikipedia"
        },
        {
            "cell_type": "code",
            "execution_count": 3,
            "metadata": {},
            "outputs": [],
            "source": "#Mark the url and obtain lxml\nurl = 'https://en.wikipedia.org/wiki/List_of_postal_codes_of_Canada:_M'\nreq = requests.get(url).text\nsoup = BeautifulSoup(req,'lxml')"
        },
        {
            "cell_type": "code",
            "execution_count": 5,
            "metadata": {},
            "outputs": [],
            "source": "#cut out the required table\ntable = soup.find('table',{'class':'wikitable sortable'})\nths = table.find_all('th')"
        },
        {
            "cell_type": "code",
            "execution_count": 101,
            "metadata": {},
            "outputs": [],
            "source": "#Clean the table data and put into a dataframe\nrows = table.findAll(\"tr\")\nrow_lengths = [len(r.findAll(['th', 'td'])) for r in rows]\nncols = max(row_lengths)\nnrows = len(rows)\ndata = []\nfor i in range(nrows):\n    rowD = []\n    for j in range(ncols):\n        rowD.append('')\n    data.append(rowD)\n\nfor i in range(len(rows)):\n    row = rows[i]\n    rowD = []\n    cells = row.findAll([\"td\", \"th\"])\n    for j in range(len(cells)):\n        cell = cells[j]\n\n        #lots of cells span cols and rows so lets deal with that\n        cspan = int(cell.get('colspan', 1))\n        rspan = int(cell.get('rowspan', 1))\n        l = 0\n        for k in range(rspan):\n            # Shifts to the first empty cell of this row\n            while data[i + k][j + l]:\n                l += 1\n            for m in range(cspan):\n                cell_n = j + l + m\n                row_n = i + k\n                # in some cases the colspan can overflow the table, in those cases just get the last item\n                cell_n = min(cell_n, len(data[row_n])-1)\n                data[row_n][cell_n] += cell.text\n\n    data.append(rowD)"
        },
        {
            "cell_type": "code",
            "execution_count": 118,
            "metadata": {},
            "outputs": [],
            "source": "df = pd.DataFrame(data, columns=[\"Postcode\", \"Borough\", \"Neighbourhood\"])\n#Remove no post code records\ndf = df[df.Postcode != 'Postcode']\n#drop null values\ndf = df.dropna()\n#Only process the cells that have an assigned borough. Ignore cells with a borough that is Not assigned.\ndf = df[df.Borough != 'Not assigned']\n#Clean the Neighbourhood column\ndf = df.replace('\\n', '', regex=True)\n#If a cell has a borough but a Not assigned neighborhood, then the neighborhood will be the same as the borough.\ndf.loc[df.Neighbourhood == \"Not assigned\", 'Neighbourhood'] = df['Borough']"
        },
        {
            "cell_type": "code",
            "execution_count": 137,
            "metadata": {},
            "outputs": [],
            "source": "#Remove duplicate by merging\ndf_dup = df[df.duplicated(subset=[\"Postcode\", \"Borough\"])].groupby([\"Postcode\", \"Borough\"])['Neighbourhood'].apply(','.join).reset_index()\ndf_nodup = df.drop_duplicates()\ndf_final = pd.concat([df_dup, df_nodup], ignore_index=True, sort = False)"
        },
        {
            "cell_type": "code",
            "execution_count": 138,
            "metadata": {},
            "outputs": [
                {
                    "name": "stdout",
                    "output_type": "stream",
                    "text": "103 103\n"
                }
            ],
            "source": "#Checking if there are missing Postcode\nprint(df_final.Postcode.nunique(),df.Postcode.nunique())"
        },
        {
            "cell_type": "code",
            "execution_count": 140,
            "metadata": {},
            "outputs": [
                {
                    "data": {
                        "text/plain": "(266, 3)"
                    },
                    "execution_count": 140,
                    "metadata": {},
                    "output_type": "execute_result"
                }
            ],
            "source": "df_final.shape"
        },
        {
            "cell_type": "code",
            "execution_count": null,
            "metadata": {},
            "outputs": [],
            "source": ""
        }
    ],
    "metadata": {
        "kernelspec": {
            "display_name": "Python 3.6",
            "language": "python",
            "name": "python3"
        },
        "language_info": {
            "codemirror_mode": {
                "name": "ipython",
                "version": 3
            },
            "file_extension": ".py",
            "mimetype": "text/x-python",
            "name": "python",
            "nbconvert_exporter": "python",
            "pygments_lexer": "ipython3",
            "version": "3.6.9"
        }
    },
    "nbformat": 4,
    "nbformat_minor": 1
}